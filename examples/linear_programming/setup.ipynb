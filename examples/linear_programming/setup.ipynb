{
 "cells": [
  {
   "cell_type": "markdown",
   "source": [
    "# Linear Programming"
   ],
   "metadata": {
    "collapsed": false
   }
  },
  {
   "cell_type": "markdown",
   "source": [
    "This notebook gives a brief overview on how to create the variable environment in order to use the LinearProgram solver."
   ],
   "metadata": {
    "collapsed": false
   }
  },
  {
   "cell_type": "markdown",
   "source": [
    "## Import Libraries"
   ],
   "metadata": {
    "collapsed": false
   }
  },
  {
   "cell_type": "code",
   "execution_count": 1,
   "outputs": [],
   "source": [
    "# Standard\n",
    "\n",
    "# Third Party\n",
    "\n",
    "# Private\n",
    "from src.utils.datamodels import LinearExpression\n",
    "from src.utils.enum import OptimizationType, InequalityType"
   ],
   "metadata": {
    "collapsed": false
   }
  },
  {
   "cell_type": "markdown",
   "source": [
    "## Demonstration"
   ],
   "metadata": {
    "collapsed": false
   }
  },
  {
   "cell_type": "markdown",
   "source": [
    "Let us define the following linear programming optimisation problem:\n",
    "\n",
    "\\begin{align*}\n",
    "\\text{minimize} \\quad & 3x + 4y \\\\\n",
    "\\text{subject to} \\quad & 2x + y \\geq 2 \\\\\n",
    "& x + 3y \\leq 3 \\\\\n",
    "& x + y = 3\n",
    "\\end{align*}\n"
   ],
   "metadata": {
    "collapsed": false
   }
  },
  {
   "cell_type": "code",
   "execution_count": 7,
   "outputs": [],
   "source": [
    "# Define the objective function\n",
    "objective = LinearExpression(\n",
    "    expression=\"3x + 4y\",\n",
    "    type=OptimizationType.MINIMIZE,\n",
    "    constant_term=0,\n",
    ")\n",
    "# Define the first constraint (2x + y >= 2)\n",
    "constraint_1 = LinearExpression(\n",
    "    expression=\"2x + y\",\n",
    "    type=InequalityType.GREATER_THAN,\n",
    "    constant_term=2,\n",
    ")\n",
    "# Define the second constraint (x + 3y <= 3)\n",
    "constraint_2 = LinearExpression(\n",
    "    expression=\"x + 3y\",\n",
    "    type=InequalityType.LESS_THAN,\n",
    "    constant_term=3,\n",
    ")\n",
    "# Define the third constraint (x + y = 2)\n",
    "constraint_3 = LinearExpression(\n",
    "    expression=\"x + y\",\n",
    "    type=InequalityType.EQUAL,\n",
    "    constant_term=2,\n",
    ")"
   ],
   "metadata": {
    "collapsed": false
   }
  },
  {
   "cell_type": "markdown",
   "source": [
    "We parse these expressions and obtain dictionary forms of the variable and its coefficient as this becomes compatible with the CVXOPT library."
   ],
   "metadata": {
    "collapsed": false
   }
  },
  {
   "cell_type": "code",
   "execution_count": 8,
   "outputs": [
    {
     "name": "stdout",
     "output_type": "stream",
     "text": [
      "Objective coefficients: {'x': 3.0, 'y': 4.0} | Objective constants: 0\n",
      "Constraint 1 coefficients: {'x': 2.0, 'y': 1.0} | Constraint 1 constants: 2\n",
      "Constraint 2 coefficients: {'x': 1.0, 'y': 3.0} | Constraint 2 constants: 3\n",
      "Constraint 3 coefficients: {'x': 1.0, 'y': 1.0} | Constraint 3 constants: 2\n"
     ]
    }
   ],
   "source": [
    "# Print the coefficients dictionary for each instance\n",
    "print(f\"Objective coefficients: {objective.coefficients} | Objective constants: {objective.constant_term}\")\n",
    "print(f\"Constraint 1 coefficients: {constraint_1.coefficients} | Constraint 1 constants: {constraint_1.constant_term}\")\n",
    "print(f\"Constraint 2 coefficients: {constraint_2.coefficients} | Constraint 2 constants: {constraint_2.constant_term}\")\n",
    "print(f\"Constraint 3 coefficients: {constraint_3.coefficients} | Constraint 3 constants: {constraint_3.constant_term}\")"
   ],
   "metadata": {
    "collapsed": false
   }
  },
  {
   "cell_type": "markdown",
   "source": [
    "© PolyNath 2023"
   ],
   "metadata": {
    "collapsed": false
   }
  }
 ],
 "metadata": {
  "kernelspec": {
   "name": "convext-opt-2023",
   "language": "python",
   "display_name": "convext-opt-2023"
  },
  "language_info": {
   "codemirror_mode": {
    "name": "ipython",
    "version": 2
   },
   "file_extension": ".py",
   "mimetype": "text/x-python",
   "name": "python",
   "nbconvert_exporter": "python",
   "pygments_lexer": "ipython2",
   "version": "2.7.6"
  }
 },
 "nbformat": 4,
 "nbformat_minor": 0
}
