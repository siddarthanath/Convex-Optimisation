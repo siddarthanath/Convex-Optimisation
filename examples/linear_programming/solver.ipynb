{
 "cells": [
  {
   "cell_type": "markdown",
   "source": [
    "# Linear Programming"
   ],
   "metadata": {
    "collapsed": false
   }
  },
  {
   "cell_type": "markdown",
   "source": [
    "This notebook gives a brief overview on how to obtain the solution from a Linear Programming solver."
   ],
   "metadata": {
    "collapsed": false
   }
  },
  {
   "cell_type": "markdown",
   "source": [
    "## Import Libraries"
   ],
   "metadata": {
    "collapsed": false
   }
  },
  {
   "cell_type": "code",
   "execution_count": 2,
   "outputs": [],
   "source": [
    "# Standard\n",
    "\n",
    "# Third Party\n",
    "\n",
    "# Private\n",
    "from src.utils.datamodels import LinearExpression, OptimizationType, InequalityType\n",
    "from src.linear_programming.interface import LinearProgrammingProblem"
   ],
   "metadata": {
    "collapsed": false
   }
  },
  {
   "cell_type": "markdown",
   "source": [
    "## Demonstration"
   ],
   "metadata": {
    "collapsed": false
   }
  },
  {
   "cell_type": "markdown",
   "source": [
    "Let us define the following linear programming optimisation problem:\n",
    "\n",
    "\\begin{align*}\n",
    "\\text{minimize} \\quad & 3x + 4y \\\\\n",
    "\\text{subject to} \\quad & 2x + y \\geq 2 \\\\\n",
    "& x + 3y \\leq 3 \\\\\n",
    "& x + y = 3\n",
    "\\end{align*}"
   ],
   "metadata": {
    "collapsed": false
   }
  },
  {
   "cell_type": "markdown",
   "source": [
    "### Objective"
   ],
   "metadata": {
    "collapsed": false
   }
  },
  {
   "cell_type": "code",
   "execution_count": 3,
   "outputs": [],
   "source": [
    "# Define the objective function\n",
    "objective = LinearExpression(\n",
    "    expression=\"3x + 4y\",\n",
    "    type=OptimizationType.MINIMIZE,\n",
    "    constant_term=0,\n",
    ")"
   ],
   "metadata": {
    "collapsed": false
   }
  },
  {
   "cell_type": "markdown",
   "source": [
    "### Constraints"
   ],
   "metadata": {
    "collapsed": false
   }
  },
  {
   "cell_type": "code",
   "execution_count": 4,
   "outputs": [],
   "source": [
    "# Define the first constraint (2x + y + z >= 2)\n",
    "constraint1 = LinearExpression(\n",
    "    expression=\"2x + y\",\n",
    "    type=InequalityType.GREATER_THAN_EQUAL,\n",
    "    constant_term=2,\n",
    ")\n",
    "# Define the second constraint (x + 3y + 2z <= 3)\n",
    "constraint2 = LinearExpression(\n",
    "    expression=\"x + 3y\",\n",
    "    type=InequalityType.LESS_THAN_EQUAL,\n",
    "    constant_term=3,\n",
    ")\n",
    "# Define the third constraint (x + y + 3z = 4)\n",
    "constraint3 = LinearExpression(\n",
    "    expression=\"x + y\",\n",
    "    type=InequalityType.EQUAL,\n",
    "    constant_term=3,\n",
    ")"
   ],
   "metadata": {
    "collapsed": false
   }
  },
  {
   "cell_type": "markdown",
   "source": [
    "We parse these expressions and obtain dictionary forms of the variable and its coefficient as this becomes compatible with the CVXOPT library."
   ],
   "metadata": {
    "collapsed": false
   }
  },
  {
   "cell_type": "markdown",
   "source": [
    "### Solution"
   ],
   "metadata": {
    "collapsed": false
   }
  },
  {
   "cell_type": "code",
   "execution_count": 8,
   "outputs": [],
   "source": [
    "# Create an instance of LinearProgrammingProblem\n",
    "problem = LinearProgrammingProblem(objective, [constraint1, constraint2, constraint3])\n",
    "# Solve the problem using the Simplex method\n",
    "result_simplex = problem.solve(method=\"simplex\",\n",
    "                       lib_type=\"scipy\")\n",
    "# Solve the problem using the Interior-Point method\n",
    "result_interior = problem.solve(method=\"interior-point\",\n",
    "                       lib_type=\"scipy\")"
   ],
   "metadata": {
    "collapsed": false
   }
  },
  {
   "cell_type": "code",
   "execution_count": 9,
   "outputs": [
    {
     "name": "stdout",
     "output_type": "stream",
     "text": [
      "Simplex:  message: Optimization terminated successfully.\n",
      " success: True\n",
      "  status: 0\n",
      "     fun: 9.0\n",
      "       x: [ 3.000e+00  0.000e+00]\n",
      "     nit: 4\n",
      "Interior-Point:  message: Optimization terminated successfully.\n",
      " success: True\n",
      "  status: 0\n",
      "     fun: 8.99999999999656\n",
      "       x: [ 3.000e+00  1.062e-12]\n",
      "     nit: 4\n"
     ]
    }
   ],
   "source": [
    "print(f\"Simplex: {result_simplex}\")\n",
    "print(f\"Interior-Point: {result_interior}\")"
   ],
   "metadata": {
    "collapsed": false
   }
  },
  {
   "cell_type": "markdown",
   "source": [
    "© PolyNath 2023"
   ],
   "metadata": {
    "collapsed": false
   }
  }
 ],
 "metadata": {
  "kernelspec": {
   "name": "convext-opt-2023",
   "language": "python",
   "display_name": "convext-opt-2023"
  },
  "language_info": {
   "codemirror_mode": {
    "name": "ipython",
    "version": 2
   },
   "file_extension": ".py",
   "mimetype": "text/x-python",
   "name": "python",
   "nbconvert_exporter": "python",
   "pygments_lexer": "ipython2",
   "version": "2.7.6"
  }
 },
 "nbformat": 4,
 "nbformat_minor": 0
}
